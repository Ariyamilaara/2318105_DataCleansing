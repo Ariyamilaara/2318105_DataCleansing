{
  "nbformat": 4,
  "nbformat_minor": 0,
  "metadata": {
    "colab": {
      "provenance": [],
      "include_colab_link": true
    },
    "kernelspec": {
      "name": "python3",
      "display_name": "Python 3"
    },
    "language_info": {
      "name": "python"
    }
  },
  "cells": [
    {
      "cell_type": "markdown",
      "metadata": {
        "id": "view-in-github",
        "colab_type": "text"
      },
      "source": [
        "<a href=\"https://colab.research.google.com/github/Ariyamilaara/2318105_DataCleansing/blob/main/2318105DataCleansing.ipynb\" target=\"_parent\"><img src=\"https://colab.research.google.com/assets/colab-badge.svg\" alt=\"Open In Colab\"/></a>"
      ]
    },
    {
      "cell_type": "markdown",
      "source": [
        "# **Import Libary**\n"
      ],
      "metadata": {
        "id": "z6IL9l55HjB4"
      }
    },
    {
      "cell_type": "markdown",
      "source": [
        "Bagian ini digunakan untuk memanggil library utama yang mendukung proses analisis data. pandas dipakai untuk membaca dan mengolah dataset dalam bentuk tabel, matplotlib.pyplot digunakan untuk membuat grafik, sedangkan seaborn membantu membuat visualisasi data yang lebih rapi dan mudah dibaca."
      ],
      "metadata": {
        "id": "k8j3N2U-iB66"
      }
    },
    {
      "cell_type": "code",
      "source": [
        "!pip install --upgrade pandas numpy matplotlib seaborn openpyxl fuzzywuzzy[speedup] python-Levenshtein\n",
        "\n",
        "import pandas as pd\n",
        "import numpy as np\n",
        "import matplotlib.pyplot as plt\n",
        "import seaborn as sns\n",
        "import re\n",
        "from fuzzywuzzy import process, fuzz\n",
        "\n",
        "# Atur tampilan pandas\n",
        "pd.set_option('display.max_columns', None)\n",
        "pd.set_option('display.max_rows', 50)"
      ],
      "metadata": {
        "colab": {
          "base_uri": "https://localhost:8080/"
        },
        "id": "dNC7zhQrIE5f",
        "outputId": "9a3dcfc6-eec1-4014-da35-ff341ec7a51d"
      },
      "execution_count": null,
      "outputs": [
        {
          "output_type": "stream",
          "name": "stdout",
          "text": [
            "Requirement already satisfied: pandas in /usr/local/lib/python3.12/dist-packages (2.3.3)\n",
            "Requirement already satisfied: numpy in /usr/local/lib/python3.12/dist-packages (2.3.3)\n",
            "Requirement already satisfied: matplotlib in /usr/local/lib/python3.12/dist-packages (3.10.6)\n",
            "Requirement already satisfied: seaborn in /usr/local/lib/python3.12/dist-packages (0.13.2)\n",
            "Requirement already satisfied: openpyxl in /usr/local/lib/python3.12/dist-packages (3.1.5)\n",
            "Requirement already satisfied: python-Levenshtein in /usr/local/lib/python3.12/dist-packages (0.27.1)\n",
            "Requirement already satisfied: fuzzywuzzy[speedup] in /usr/local/lib/python3.12/dist-packages (0.18.0)\n",
            "Requirement already satisfied: python-dateutil>=2.8.2 in /usr/local/lib/python3.12/dist-packages (from pandas) (2.9.0.post0)\n",
            "Requirement already satisfied: pytz>=2020.1 in /usr/local/lib/python3.12/dist-packages (from pandas) (2025.2)\n",
            "Requirement already satisfied: tzdata>=2022.7 in /usr/local/lib/python3.12/dist-packages (from pandas) (2025.2)\n",
            "Requirement already satisfied: contourpy>=1.0.1 in /usr/local/lib/python3.12/dist-packages (from matplotlib) (1.3.3)\n",
            "Requirement already satisfied: cycler>=0.10 in /usr/local/lib/python3.12/dist-packages (from matplotlib) (0.12.1)\n",
            "Requirement already satisfied: fonttools>=4.22.0 in /usr/local/lib/python3.12/dist-packages (from matplotlib) (4.60.0)\n",
            "Requirement already satisfied: kiwisolver>=1.3.1 in /usr/local/lib/python3.12/dist-packages (from matplotlib) (1.4.9)\n",
            "Requirement already satisfied: packaging>=20.0 in /usr/local/lib/python3.12/dist-packages (from matplotlib) (25.0)\n",
            "Requirement already satisfied: pillow>=8 in /usr/local/lib/python3.12/dist-packages (from matplotlib) (11.3.0)\n",
            "Requirement already satisfied: pyparsing>=2.3.1 in /usr/local/lib/python3.12/dist-packages (from matplotlib) (3.2.4)\n",
            "Requirement already satisfied: et-xmlfile in /usr/local/lib/python3.12/dist-packages (from openpyxl) (2.0.0)\n",
            "Requirement already satisfied: Levenshtein==0.27.1 in /usr/local/lib/python3.12/dist-packages (from python-Levenshtein) (0.27.1)\n",
            "Requirement already satisfied: rapidfuzz<4.0.0,>=3.9.0 in /usr/local/lib/python3.12/dist-packages (from Levenshtein==0.27.1->python-Levenshtein) (3.14.1)\n",
            "Requirement already satisfied: six>=1.5 in /usr/local/lib/python3.12/dist-packages (from python-dateutil>=2.8.2->pandas) (1.17.0)\n"
          ]
        }
      ]
    },
    {
      "cell_type": "markdown",
      "source": [
        "# **Membaca Dataset**"
      ],
      "metadata": {
        "id": "3JA3gTjSKXmR"
      }
    },
    {
      "cell_type": "markdown",
      "source": [
        "Kode ini berfungsi untuk membuka dataset CSV COVID-19 dan menampilkan ukuran data serta lima baris pertama. Dengan cara ini kita bisa memastikan bahwa dataset berhasil terbaca dengan benar dan sekaligus mendapatkan gambaran awal tentang isi data mentah yang akan diproses."
      ],
      "metadata": {
        "id": "qR_q78NUif2y"
      }
    },
    {
      "cell_type": "code",
      "source": [
        "from google.colab import drive\n",
        "drive.mount('/content/drive')\n",
        "\n",
        "# lalu arahkan path ke file di Drive\n",
        "file_path = \"/content/drive/MyDrive/DATA_MINING/Covid_Live.csv\" # ganti sesuai folder Anda\n",
        "\n",
        "df_raw = pd.read_csv(file_path, low_memory=False)\n",
        "print(\"Shape awal:\", df_raw.shape)\n",
        "df_raw.head()\n"
      ],
      "metadata": {
        "colab": {
          "base_uri": "https://localhost:8080/",
          "height": 295
        },
        "id": "qbXHteCJIX7O",
        "outputId": "cab8e99b-7977-4e72-a578-c6ab39f8876c"
      },
      "execution_count": null,
      "outputs": [
        {
          "output_type": "stream",
          "name": "stdout",
          "text": [
            "Drive already mounted at /content/drive; to attempt to forcibly remount, call drive.mount(\"/content/drive\", force_remount=True).\n",
            "Shape awal: (230, 13)\n"
          ]
        },
        {
          "output_type": "execute_result",
          "data": {
            "text/plain": [
              "   # Country,\\nOther Total\\nCases Total\\nDeaths  New\\nDeaths Total\\nRecovered  \\\n",
              "0  1             USA   98,166,904     1,084,282          NaN       94,962,112   \n",
              "1  2           India   44,587,307       528,629          NaN       44,019,095   \n",
              "2  3          France   35,342,950       155,078          NaN       34,527,115   \n",
              "3  4          Brazil   34,706,757       686,027          NaN       33,838,636   \n",
              "4  5         Germany   33,312,373       149,948          NaN       32,315,200   \n",
              "\n",
              "  Active\\nCases Serious,\\nCritical Tot Cases/\\n1M pop Deaths/\\n1M pop  \\\n",
              "0     2,120,510              2,970            293,206           3,239   \n",
              "1        39,583                698             31,698             376   \n",
              "2       660,757                869            538,892           2,365   \n",
              "3       182,094              8,318            161,162           3,186   \n",
              "4       847,225              1,406            397,126           1,788   \n",
              "\n",
              "    Total\\nTests Tests/\\n1M pop     Population  \n",
              "0  1,118,158,870      3,339,729    334,805,269  \n",
              "1    894,416,853        635,857  1,406,631,776  \n",
              "2    271,490,188      4,139,547     65,584,518  \n",
              "3     63,776,166        296,146    215,353,593  \n",
              "4    122,332,384      1,458,359     83,883,596  "
            ],
            "text/html": [
              "\n",
              "  <div id=\"df-9a82a6bf-7b16-479f-8850-dd496249c9be\" class=\"colab-df-container\">\n",
              "    <div>\n",
              "<style scoped>\n",
              "    .dataframe tbody tr th:only-of-type {\n",
              "        vertical-align: middle;\n",
              "    }\n",
              "\n",
              "    .dataframe tbody tr th {\n",
              "        vertical-align: top;\n",
              "    }\n",
              "\n",
              "    .dataframe thead th {\n",
              "        text-align: right;\n",
              "    }\n",
              "</style>\n",
              "<table border=\"1\" class=\"dataframe\">\n",
              "  <thead>\n",
              "    <tr style=\"text-align: right;\">\n",
              "      <th></th>\n",
              "      <th>#</th>\n",
              "      <th>Country,\\nOther</th>\n",
              "      <th>Total\\nCases</th>\n",
              "      <th>Total\\nDeaths</th>\n",
              "      <th>New\\nDeaths</th>\n",
              "      <th>Total\\nRecovered</th>\n",
              "      <th>Active\\nCases</th>\n",
              "      <th>Serious,\\nCritical</th>\n",
              "      <th>Tot Cases/\\n1M pop</th>\n",
              "      <th>Deaths/\\n1M pop</th>\n",
              "      <th>Total\\nTests</th>\n",
              "      <th>Tests/\\n1M pop</th>\n",
              "      <th>Population</th>\n",
              "    </tr>\n",
              "  </thead>\n",
              "  <tbody>\n",
              "    <tr>\n",
              "      <th>0</th>\n",
              "      <td>1</td>\n",
              "      <td>USA</td>\n",
              "      <td>98,166,904</td>\n",
              "      <td>1,084,282</td>\n",
              "      <td>NaN</td>\n",
              "      <td>94,962,112</td>\n",
              "      <td>2,120,510</td>\n",
              "      <td>2,970</td>\n",
              "      <td>293,206</td>\n",
              "      <td>3,239</td>\n",
              "      <td>1,118,158,870</td>\n",
              "      <td>3,339,729</td>\n",
              "      <td>334,805,269</td>\n",
              "    </tr>\n",
              "    <tr>\n",
              "      <th>1</th>\n",
              "      <td>2</td>\n",
              "      <td>India</td>\n",
              "      <td>44,587,307</td>\n",
              "      <td>528,629</td>\n",
              "      <td>NaN</td>\n",
              "      <td>44,019,095</td>\n",
              "      <td>39,583</td>\n",
              "      <td>698</td>\n",
              "      <td>31,698</td>\n",
              "      <td>376</td>\n",
              "      <td>894,416,853</td>\n",
              "      <td>635,857</td>\n",
              "      <td>1,406,631,776</td>\n",
              "    </tr>\n",
              "    <tr>\n",
              "      <th>2</th>\n",
              "      <td>3</td>\n",
              "      <td>France</td>\n",
              "      <td>35,342,950</td>\n",
              "      <td>155,078</td>\n",
              "      <td>NaN</td>\n",
              "      <td>34,527,115</td>\n",
              "      <td>660,757</td>\n",
              "      <td>869</td>\n",
              "      <td>538,892</td>\n",
              "      <td>2,365</td>\n",
              "      <td>271,490,188</td>\n",
              "      <td>4,139,547</td>\n",
              "      <td>65,584,518</td>\n",
              "    </tr>\n",
              "    <tr>\n",
              "      <th>3</th>\n",
              "      <td>4</td>\n",
              "      <td>Brazil</td>\n",
              "      <td>34,706,757</td>\n",
              "      <td>686,027</td>\n",
              "      <td>NaN</td>\n",
              "      <td>33,838,636</td>\n",
              "      <td>182,094</td>\n",
              "      <td>8,318</td>\n",
              "      <td>161,162</td>\n",
              "      <td>3,186</td>\n",
              "      <td>63,776,166</td>\n",
              "      <td>296,146</td>\n",
              "      <td>215,353,593</td>\n",
              "    </tr>\n",
              "    <tr>\n",
              "      <th>4</th>\n",
              "      <td>5</td>\n",
              "      <td>Germany</td>\n",
              "      <td>33,312,373</td>\n",
              "      <td>149,948</td>\n",
              "      <td>NaN</td>\n",
              "      <td>32,315,200</td>\n",
              "      <td>847,225</td>\n",
              "      <td>1,406</td>\n",
              "      <td>397,126</td>\n",
              "      <td>1,788</td>\n",
              "      <td>122,332,384</td>\n",
              "      <td>1,458,359</td>\n",
              "      <td>83,883,596</td>\n",
              "    </tr>\n",
              "  </tbody>\n",
              "</table>\n",
              "</div>\n",
              "    <div class=\"colab-df-buttons\">\n",
              "\n",
              "  <div class=\"colab-df-container\">\n",
              "    <button class=\"colab-df-convert\" onclick=\"convertToInteractive('df-9a82a6bf-7b16-479f-8850-dd496249c9be')\"\n",
              "            title=\"Convert this dataframe to an interactive table.\"\n",
              "            style=\"display:none;\">\n",
              "\n",
              "  <svg xmlns=\"http://www.w3.org/2000/svg\" height=\"24px\" viewBox=\"0 -960 960 960\">\n",
              "    <path d=\"M120-120v-720h720v720H120Zm60-500h600v-160H180v160Zm220 220h160v-160H400v160Zm0 220h160v-160H400v160ZM180-400h160v-160H180v160Zm440 0h160v-160H620v160ZM180-180h160v-160H180v160Zm440 0h160v-160H620v160Z\"/>\n",
              "  </svg>\n",
              "    </button>\n",
              "\n",
              "  <style>\n",
              "    .colab-df-container {\n",
              "      display:flex;\n",
              "      gap: 12px;\n",
              "    }\n",
              "\n",
              "    .colab-df-convert {\n",
              "      background-color: #E8F0FE;\n",
              "      border: none;\n",
              "      border-radius: 50%;\n",
              "      cursor: pointer;\n",
              "      display: none;\n",
              "      fill: #1967D2;\n",
              "      height: 32px;\n",
              "      padding: 0 0 0 0;\n",
              "      width: 32px;\n",
              "    }\n",
              "\n",
              "    .colab-df-convert:hover {\n",
              "      background-color: #E2EBFA;\n",
              "      box-shadow: 0px 1px 2px rgba(60, 64, 67, 0.3), 0px 1px 3px 1px rgba(60, 64, 67, 0.15);\n",
              "      fill: #174EA6;\n",
              "    }\n",
              "\n",
              "    .colab-df-buttons div {\n",
              "      margin-bottom: 4px;\n",
              "    }\n",
              "\n",
              "    [theme=dark] .colab-df-convert {\n",
              "      background-color: #3B4455;\n",
              "      fill: #D2E3FC;\n",
              "    }\n",
              "\n",
              "    [theme=dark] .colab-df-convert:hover {\n",
              "      background-color: #434B5C;\n",
              "      box-shadow: 0px 1px 3px 1px rgba(0, 0, 0, 0.15);\n",
              "      filter: drop-shadow(0px 1px 2px rgba(0, 0, 0, 0.3));\n",
              "      fill: #FFFFFF;\n",
              "    }\n",
              "  </style>\n",
              "\n",
              "    <script>\n",
              "      const buttonEl =\n",
              "        document.querySelector('#df-9a82a6bf-7b16-479f-8850-dd496249c9be button.colab-df-convert');\n",
              "      buttonEl.style.display =\n",
              "        google.colab.kernel.accessAllowed ? 'block' : 'none';\n",
              "\n",
              "      async function convertToInteractive(key) {\n",
              "        const element = document.querySelector('#df-9a82a6bf-7b16-479f-8850-dd496249c9be');\n",
              "        const dataTable =\n",
              "          await google.colab.kernel.invokeFunction('convertToInteractive',\n",
              "                                                    [key], {});\n",
              "        if (!dataTable) return;\n",
              "\n",
              "        const docLinkHtml = 'Like what you see? Visit the ' +\n",
              "          '<a target=\"_blank\" href=https://colab.research.google.com/notebooks/data_table.ipynb>data table notebook</a>'\n",
              "          + ' to learn more about interactive tables.';\n",
              "        element.innerHTML = '';\n",
              "        dataTable['output_type'] = 'display_data';\n",
              "        await google.colab.output.renderOutput(dataTable, element);\n",
              "        const docLink = document.createElement('div');\n",
              "        docLink.innerHTML = docLinkHtml;\n",
              "        element.appendChild(docLink);\n",
              "      }\n",
              "    </script>\n",
              "  </div>\n",
              "\n",
              "\n",
              "    <div id=\"df-23622b4b-7784-4ffa-91a2-d107b4f8ce44\">\n",
              "      <button class=\"colab-df-quickchart\" onclick=\"quickchart('df-23622b4b-7784-4ffa-91a2-d107b4f8ce44')\"\n",
              "                title=\"Suggest charts\"\n",
              "                style=\"display:none;\">\n",
              "\n",
              "<svg xmlns=\"http://www.w3.org/2000/svg\" height=\"24px\"viewBox=\"0 0 24 24\"\n",
              "     width=\"24px\">\n",
              "    <g>\n",
              "        <path d=\"M19 3H5c-1.1 0-2 .9-2 2v14c0 1.1.9 2 2 2h14c1.1 0 2-.9 2-2V5c0-1.1-.9-2-2-2zM9 17H7v-7h2v7zm4 0h-2V7h2v10zm4 0h-2v-4h2v4z\"/>\n",
              "    </g>\n",
              "</svg>\n",
              "      </button>\n",
              "\n",
              "<style>\n",
              "  .colab-df-quickchart {\n",
              "      --bg-color: #E8F0FE;\n",
              "      --fill-color: #1967D2;\n",
              "      --hover-bg-color: #E2EBFA;\n",
              "      --hover-fill-color: #174EA6;\n",
              "      --disabled-fill-color: #AAA;\n",
              "      --disabled-bg-color: #DDD;\n",
              "  }\n",
              "\n",
              "  [theme=dark] .colab-df-quickchart {\n",
              "      --bg-color: #3B4455;\n",
              "      --fill-color: #D2E3FC;\n",
              "      --hover-bg-color: #434B5C;\n",
              "      --hover-fill-color: #FFFFFF;\n",
              "      --disabled-bg-color: #3B4455;\n",
              "      --disabled-fill-color: #666;\n",
              "  }\n",
              "\n",
              "  .colab-df-quickchart {\n",
              "    background-color: var(--bg-color);\n",
              "    border: none;\n",
              "    border-radius: 50%;\n",
              "    cursor: pointer;\n",
              "    display: none;\n",
              "    fill: var(--fill-color);\n",
              "    height: 32px;\n",
              "    padding: 0;\n",
              "    width: 32px;\n",
              "  }\n",
              "\n",
              "  .colab-df-quickchart:hover {\n",
              "    background-color: var(--hover-bg-color);\n",
              "    box-shadow: 0 1px 2px rgba(60, 64, 67, 0.3), 0 1px 3px 1px rgba(60, 64, 67, 0.15);\n",
              "    fill: var(--button-hover-fill-color);\n",
              "  }\n",
              "\n",
              "  .colab-df-quickchart-complete:disabled,\n",
              "  .colab-df-quickchart-complete:disabled:hover {\n",
              "    background-color: var(--disabled-bg-color);\n",
              "    fill: var(--disabled-fill-color);\n",
              "    box-shadow: none;\n",
              "  }\n",
              "\n",
              "  .colab-df-spinner {\n",
              "    border: 2px solid var(--fill-color);\n",
              "    border-color: transparent;\n",
              "    border-bottom-color: var(--fill-color);\n",
              "    animation:\n",
              "      spin 1s steps(1) infinite;\n",
              "  }\n",
              "\n",
              "  @keyframes spin {\n",
              "    0% {\n",
              "      border-color: transparent;\n",
              "      border-bottom-color: var(--fill-color);\n",
              "      border-left-color: var(--fill-color);\n",
              "    }\n",
              "    20% {\n",
              "      border-color: transparent;\n",
              "      border-left-color: var(--fill-color);\n",
              "      border-top-color: var(--fill-color);\n",
              "    }\n",
              "    30% {\n",
              "      border-color: transparent;\n",
              "      border-left-color: var(--fill-color);\n",
              "      border-top-color: var(--fill-color);\n",
              "      border-right-color: var(--fill-color);\n",
              "    }\n",
              "    40% {\n",
              "      border-color: transparent;\n",
              "      border-right-color: var(--fill-color);\n",
              "      border-top-color: var(--fill-color);\n",
              "    }\n",
              "    60% {\n",
              "      border-color: transparent;\n",
              "      border-right-color: var(--fill-color);\n",
              "    }\n",
              "    80% {\n",
              "      border-color: transparent;\n",
              "      border-right-color: var(--fill-color);\n",
              "      border-bottom-color: var(--fill-color);\n",
              "    }\n",
              "    90% {\n",
              "      border-color: transparent;\n",
              "      border-bottom-color: var(--fill-color);\n",
              "    }\n",
              "  }\n",
              "</style>\n",
              "\n",
              "      <script>\n",
              "        async function quickchart(key) {\n",
              "          const quickchartButtonEl =\n",
              "            document.querySelector('#' + key + ' button');\n",
              "          quickchartButtonEl.disabled = true;  // To prevent multiple clicks.\n",
              "          quickchartButtonEl.classList.add('colab-df-spinner');\n",
              "          try {\n",
              "            const charts = await google.colab.kernel.invokeFunction(\n",
              "                'suggestCharts', [key], {});\n",
              "          } catch (error) {\n",
              "            console.error('Error during call to suggestCharts:', error);\n",
              "          }\n",
              "          quickchartButtonEl.classList.remove('colab-df-spinner');\n",
              "          quickchartButtonEl.classList.add('colab-df-quickchart-complete');\n",
              "        }\n",
              "        (() => {\n",
              "          let quickchartButtonEl =\n",
              "            document.querySelector('#df-23622b4b-7784-4ffa-91a2-d107b4f8ce44 button');\n",
              "          quickchartButtonEl.style.display =\n",
              "            google.colab.kernel.accessAllowed ? 'block' : 'none';\n",
              "        })();\n",
              "      </script>\n",
              "    </div>\n",
              "\n",
              "    </div>\n",
              "  </div>\n"
            ],
            "application/vnd.google.colaboratory.intrinsic+json": {
              "type": "dataframe",
              "variable_name": "df_raw",
              "summary": "{\n  \"name\": \"df_raw\",\n  \"rows\": 230,\n  \"fields\": [\n    {\n      \"column\": \"#\",\n      \"properties\": {\n        \"dtype\": \"number\",\n        \"std\": 66,\n        \"min\": 1,\n        \"max\": 230,\n        \"num_unique_values\": 230,\n        \"samples\": [\n          218,\n          67,\n          10\n        ],\n        \"semantic_type\": \"\",\n        \"description\": \"\"\n      }\n    },\n    {\n      \"column\": \"Country,\\nOther\",\n      \"properties\": {\n        \"dtype\": \"string\",\n        \"num_unique_values\": 230,\n        \"samples\": [\n          \"Kiribati\",\n          \"Costa Rica\",\n          \"Russia\"\n        ],\n        \"semantic_type\": \"\",\n        \"description\": \"\"\n      }\n    },\n    {\n      \"column\": \"Total\\nCases\",\n      \"properties\": {\n        \"dtype\": \"string\",\n        \"num_unique_values\": 230,\n        \"samples\": [\n          \"3,430\",\n          \"1,072,807\",\n          \"20,948,470\"\n        ],\n        \"semantic_type\": \"\",\n        \"description\": \"\"\n      }\n    },\n    {\n      \"column\": \"Total\\nDeaths\",\n      \"properties\": {\n        \"dtype\": \"string\",\n        \"num_unique_values\": 210,\n        \"samples\": [\n          \"61,141\",\n          \"387\",\n          \"2,681\"\n        ],\n        \"semantic_type\": \"\",\n        \"description\": \"\"\n      }\n    },\n    {\n      \"column\": \"New\\nDeaths\",\n      \"properties\": {\n        \"dtype\": \"number\",\n        \"std\": 21.0,\n        \"min\": 3.0,\n        \"max\": 42.0,\n        \"num_unique_values\": 3,\n        \"samples\": [\n          42.0,\n          9.0,\n          3.0\n        ],\n        \"semantic_type\": \"\",\n        \"description\": \"\"\n      }\n    },\n    {\n      \"column\": \"Total\\nRecovered\",\n      \"properties\": {\n        \"dtype\": \"string\",\n        \"num_unique_values\": 214,\n        \"samples\": [\n          \"19,979,763\",\n          \"6,321\",\n          \"1,006,369\"\n        ],\n        \"semantic_type\": \"\",\n        \"description\": \"\"\n      }\n    },\n    {\n      \"column\": \"Active\\nCases\",\n      \"properties\": {\n        \"dtype\": \"string\",\n        \"num_unique_values\": 196,\n        \"samples\": [\n          \"145\",\n          \"4,188\",\n          \"78,529\"\n        ],\n        \"semantic_type\": \"\",\n        \"description\": \"\"\n      }\n    },\n    {\n      \"column\": \"Serious,\\nCritical\",\n      \"properties\": {\n        \"dtype\": \"category\",\n        \"num_unique_values\": 77,\n        \"samples\": [\n          \"1,406\",\n          \"696\",\n          \"975\"\n        ],\n        \"semantic_type\": \"\",\n        \"description\": \"\"\n      }\n    },\n    {\n      \"column\": \"Tot Cases/\\n1M pop\",\n      \"properties\": {\n        \"dtype\": \"string\",\n        \"num_unique_values\": 228,\n        \"samples\": [\n          \"422,911\",\n          \"207,012\",\n          \"143,674\"\n        ],\n        \"semantic_type\": \"\",\n        \"description\": \"\"\n      }\n    },\n    {\n      \"column\": \"Deaths/\\n1M pop\",\n      \"properties\": {\n        \"dtype\": \"string\",\n        \"num_unique_values\": 205,\n        \"samples\": [\n          \"1,316\",\n          \"2,655\",\n          \"1,252\"\n        ],\n        \"semantic_type\": \"\",\n        \"description\": \"\"\n      }\n    },\n    {\n      \"column\": \"Total\\nTests\",\n      \"properties\": {\n        \"dtype\": \"string\",\n        \"num_unique_values\": 213,\n        \"samples\": [\n          \"273,400,000\",\n          \"259,958\",\n          \"190,586,733\"\n        ],\n        \"semantic_type\": \"\",\n        \"description\": \"\"\n      }\n    },\n    {\n      \"column\": \"Tests/\\n1M pop\",\n      \"properties\": {\n        \"dtype\": \"string\",\n        \"num_unique_values\": 214,\n        \"samples\": [\n          \"1,875,095\",\n          \"31,296\",\n          \"18,904,066\"\n        ],\n        \"semantic_type\": \"\",\n        \"description\": \"\"\n      }\n    },\n    {\n      \"column\": \"Population\",\n      \"properties\": {\n        \"dtype\": \"string\",\n        \"num_unique_values\": 228,\n        \"samples\": [\n          \"10,903\",\n          \"5,182,354\",\n          \"145,805,947\"\n        ],\n        \"semantic_type\": \"\",\n        \"description\": \"\"\n      }\n    }\n  ]\n}"
            }
          },
          "metadata": {},
          "execution_count": 10
        }
      ]
    },
    {
      "cell_type": "markdown",
      "source": [
        "# **Explorasi Awal**"
      ],
      "metadata": {
        "id": "DLbZmD0IKdIY"
      }
    },
    {
      "cell_type": "markdown",
      "source": [
        "Bagian ini berfungsi untuk memahami kondisi dataset sebelum dilakukan pembersihan. Perintah df_raw.info() digunakan untuk menampilkan informasi struktur dataset, termasuk jumlah baris, kolom, tipe data, dan apakah ada nilai kosong. Selanjutnya, df_raw.isna().sum() dipakai untuk menghitung jumlah nilai yang hilang (missing values) di setiap kolom, sehingga kita bisa mengetahui kolom mana yang perlu diperbaiki. Terakhir, df_raw.duplicated().sum() digunakan untuk mengecek jumlah baris duplikat yang ada dalam dataset. Dengan eksplorasi awal ini, kita mendapatkan gambaran kualitas data mentah dan menentukan langkah cleansing yang tepat."
      ],
      "metadata": {
        "id": "RydJ92O7inXK"
      }
    },
    {
      "cell_type": "code",
      "source": [
        "# Lihat info dataset\n",
        "df_raw.info()\n",
        "\n",
        "# Cek missing values\n",
        "print(\"\\nJumlah missing value per kolom:\")\n",
        "print(df_raw.isna().sum())\n",
        "\n",
        "# Cek duplikat\n",
        "print(\"\\nJumlah baris duplikat:\", df_raw.duplicated().sum())\n"
      ],
      "metadata": {
        "colab": {
          "base_uri": "https://localhost:8080/"
        },
        "id": "xhE0lag9Kba0",
        "outputId": "bf0913e0-a7c0-4647-827f-ec4e16cb10f7"
      },
      "execution_count": null,
      "outputs": [
        {
          "output_type": "stream",
          "name": "stdout",
          "text": [
            "<class 'pandas.core.frame.DataFrame'>\n",
            "RangeIndex: 230 entries, 0 to 229\n",
            "Data columns (total 13 columns):\n",
            " #   Column             Non-Null Count  Dtype  \n",
            "---  ------             --------------  -----  \n",
            " 0   #                  230 non-null    int64  \n",
            " 1   Country,\n",
            "Other     230 non-null    object \n",
            " 2   Total\n",
            "Cases        230 non-null    object \n",
            " 3   Total\n",
            "Deaths       225 non-null    object \n",
            " 4   New\n",
            "Deaths         3 non-null      float64\n",
            " 5   Total\n",
            "Recovered    214 non-null    object \n",
            " 6   Active\n",
            "Cases       215 non-null    object \n",
            " 7   Serious,\n",
            "Critical  147 non-null    object \n",
            " 8   Tot Cases/\n",
            "1M pop  228 non-null    object \n",
            " 9   Deaths/\n",
            "1M pop     223 non-null    object \n",
            " 10  Total\n",
            "Tests        214 non-null    object \n",
            " 11  Tests/\n",
            "1M pop      214 non-null    object \n",
            " 12  Population         228 non-null    object \n",
            "dtypes: float64(1), int64(1), object(11)\n",
            "memory usage: 23.5+ KB\n",
            "\n",
            "Jumlah missing value per kolom:\n",
            "#                       0\n",
            "Country,\\nOther         0\n",
            "Total\\nCases            0\n",
            "Total\\nDeaths           5\n",
            "New\\nDeaths           227\n",
            "Total\\nRecovered       16\n",
            "Active\\nCases          15\n",
            "Serious,\\nCritical     83\n",
            "Tot Cases/\\n1M pop      2\n",
            "Deaths/\\n1M pop         7\n",
            "Total\\nTests           16\n",
            "Tests/\\n1M pop         16\n",
            "Population              2\n",
            "dtype: int64\n",
            "\n",
            "Jumlah baris duplikat: 0\n"
          ]
        }
      ]
    },
    {
      "cell_type": "markdown",
      "source": [
        "# **Standarisasi Nama Kolom**"
      ],
      "metadata": {
        "id": "HEszhO4qKoky"
      }
    },
    {
      "cell_type": "markdown",
      "source": [
        "Langkah ini bertujuan untuk merapikan nama kolom yang masih berisi karakter aneh seperti newline (\\n), koma, dan spasi berlebih. Setelah dibersihkan, nama kolom diubah menjadi lebih sederhana, misalnya CountryOther menjadi Country, sehingga lebih konsisten dan mudah dipanggil dalam analisis selanjutnya."
      ],
      "metadata": {
        "id": "_FPw-MTxj09X"
      }
    },
    {
      "cell_type": "code",
      "source": [
        "# Normalisasi nama kolom agar konsisten\n",
        "df = df_raw.copy()\n",
        "df.columns = [c.strip().replace(\" \", \"_\").replace(\"/\", \"_per_\") for c in df.columns]\n",
        "\n",
        "print(\"Kolom setelah normalisasi:\")\n",
        "print(df.columns.tolist())\n"
      ],
      "metadata": {
        "colab": {
          "base_uri": "https://localhost:8080/"
        },
        "id": "afkgmVOpKhb1",
        "outputId": "697c931e-86d9-44ec-e01a-d4131d1bbbb4"
      },
      "execution_count": null,
      "outputs": [
        {
          "output_type": "stream",
          "name": "stdout",
          "text": [
            "Kolom setelah normalisasi:\n",
            "['#', 'Country,\\nOther', 'Total\\nCases', 'Total\\nDeaths', 'New\\nDeaths', 'Total\\nRecovered', 'Active\\nCases', 'Serious,\\nCritical', 'Tot_Cases_per_\\n1M_pop', 'Deaths_per_\\n1M_pop', 'Total\\nTests', 'Tests_per_\\n1M_pop', 'Population']\n"
          ]
        }
      ]
    },
    {
      "cell_type": "code",
      "source": [],
      "metadata": {
        "id": "edU56ATDKsrp"
      },
      "execution_count": null,
      "outputs": []
    },
    {
      "cell_type": "markdown",
      "source": [
        "# **Membersihkan Data Numerik**"
      ],
      "metadata": {
        "id": "8p35UtiPKvpU"
      }
    },
    {
      "cell_type": "markdown",
      "source": [
        "Bagian ini dipakai untuk mengubah semua nilai angka yang masih berbentuk teks ke dalam tipe data numerik. Misalnya data \"1,234,567\" diubah menjadi 1234567. Selain itu, nilai kosong seperti N/A atau - juga dikonversi menjadi NaN agar bisa diproses dengan benar. Dengan begitu, dataset lebih bersih dan siap untuk analisis statistik."
      ],
      "metadata": {
        "id": "0v9_pubQjl0j"
      }
    },
    {
      "cell_type": "code",
      "source": [
        "# Fungsi bantu untuk membersihkan angka\n",
        "def to_num(x):\n",
        "    if pd.isna(x):\n",
        "        return np.nan\n",
        "    s = str(x).strip()\n",
        "    if s.upper() in ['N/A','NA','NONE','-','--','']:\n",
        "        return np.nan\n",
        "    s = s.replace(',', '').replace('+','')\n",
        "    try:\n",
        "        return float(s)\n",
        "    except:\n",
        "        s2 = re.sub(r'[^0-9eE\\.\\-]', '', s)\n",
        "        try:\n",
        "            return float(s2)\n",
        "        except:\n",
        "            return np.nan\n",
        "\n",
        "# Terapkan fungsi pada semua kolom numerik\n",
        "for col in df.columns:\n",
        "    if col != \"Country\":  # asumsikan ada kolom Country\n",
        "        df[col] = df[col].map(to_num)\n",
        "\n",
        "df.head()\n"
      ],
      "metadata": {
        "colab": {
          "base_uri": "https://localhost:8080/",
          "height": 226
        },
        "id": "9aKu3b5PKzmQ",
        "outputId": "8145f0ae-ad6f-4b63-86be-71788d227e23"
      },
      "execution_count": null,
      "outputs": [
        {
          "output_type": "execute_result",
          "data": {
            "text/plain": [
              "     #  Country,\\nOther  Total\\nCases  Total\\nDeaths  New\\nDeaths  \\\n",
              "0  1.0              NaN    98166904.0      1084282.0          NaN   \n",
              "1  2.0              NaN    44587307.0       528629.0          NaN   \n",
              "2  3.0              NaN    35342950.0       155078.0          NaN   \n",
              "3  4.0              NaN    34706757.0       686027.0          NaN   \n",
              "4  5.0              NaN    33312373.0       149948.0          NaN   \n",
              "\n",
              "   Total\\nRecovered  Active\\nCases  Serious,\\nCritical  \\\n",
              "0        94962112.0      2120510.0              2970.0   \n",
              "1        44019095.0        39583.0               698.0   \n",
              "2        34527115.0       660757.0               869.0   \n",
              "3        33838636.0       182094.0              8318.0   \n",
              "4        32315200.0       847225.0              1406.0   \n",
              "\n",
              "   Tot_Cases_per_\\n1M_pop  Deaths_per_\\n1M_pop  Total\\nTests  \\\n",
              "0                293206.0               3239.0  1.118159e+09   \n",
              "1                 31698.0                376.0  8.944169e+08   \n",
              "2                538892.0               2365.0  2.714902e+08   \n",
              "3                161162.0               3186.0  6.377617e+07   \n",
              "4                397126.0               1788.0  1.223324e+08   \n",
              "\n",
              "   Tests_per_\\n1M_pop    Population  \n",
              "0           3339729.0  3.348053e+08  \n",
              "1            635857.0  1.406632e+09  \n",
              "2           4139547.0  6.558452e+07  \n",
              "3            296146.0  2.153536e+08  \n",
              "4           1458359.0  8.388360e+07  "
            ],
            "text/html": [
              "\n",
              "  <div id=\"df-5933ebf4-bf7f-41f4-9ddb-84ab6650aae2\" class=\"colab-df-container\">\n",
              "    <div>\n",
              "<style scoped>\n",
              "    .dataframe tbody tr th:only-of-type {\n",
              "        vertical-align: middle;\n",
              "    }\n",
              "\n",
              "    .dataframe tbody tr th {\n",
              "        vertical-align: top;\n",
              "    }\n",
              "\n",
              "    .dataframe thead th {\n",
              "        text-align: right;\n",
              "    }\n",
              "</style>\n",
              "<table border=\"1\" class=\"dataframe\">\n",
              "  <thead>\n",
              "    <tr style=\"text-align: right;\">\n",
              "      <th></th>\n",
              "      <th>#</th>\n",
              "      <th>Country,\\nOther</th>\n",
              "      <th>Total\\nCases</th>\n",
              "      <th>Total\\nDeaths</th>\n",
              "      <th>New\\nDeaths</th>\n",
              "      <th>Total\\nRecovered</th>\n",
              "      <th>Active\\nCases</th>\n",
              "      <th>Serious,\\nCritical</th>\n",
              "      <th>Tot_Cases_per_\\n1M_pop</th>\n",
              "      <th>Deaths_per_\\n1M_pop</th>\n",
              "      <th>Total\\nTests</th>\n",
              "      <th>Tests_per_\\n1M_pop</th>\n",
              "      <th>Population</th>\n",
              "    </tr>\n",
              "  </thead>\n",
              "  <tbody>\n",
              "    <tr>\n",
              "      <th>0</th>\n",
              "      <td>1.0</td>\n",
              "      <td>NaN</td>\n",
              "      <td>98166904.0</td>\n",
              "      <td>1084282.0</td>\n",
              "      <td>NaN</td>\n",
              "      <td>94962112.0</td>\n",
              "      <td>2120510.0</td>\n",
              "      <td>2970.0</td>\n",
              "      <td>293206.0</td>\n",
              "      <td>3239.0</td>\n",
              "      <td>1.118159e+09</td>\n",
              "      <td>3339729.0</td>\n",
              "      <td>3.348053e+08</td>\n",
              "    </tr>\n",
              "    <tr>\n",
              "      <th>1</th>\n",
              "      <td>2.0</td>\n",
              "      <td>NaN</td>\n",
              "      <td>44587307.0</td>\n",
              "      <td>528629.0</td>\n",
              "      <td>NaN</td>\n",
              "      <td>44019095.0</td>\n",
              "      <td>39583.0</td>\n",
              "      <td>698.0</td>\n",
              "      <td>31698.0</td>\n",
              "      <td>376.0</td>\n",
              "      <td>8.944169e+08</td>\n",
              "      <td>635857.0</td>\n",
              "      <td>1.406632e+09</td>\n",
              "    </tr>\n",
              "    <tr>\n",
              "      <th>2</th>\n",
              "      <td>3.0</td>\n",
              "      <td>NaN</td>\n",
              "      <td>35342950.0</td>\n",
              "      <td>155078.0</td>\n",
              "      <td>NaN</td>\n",
              "      <td>34527115.0</td>\n",
              "      <td>660757.0</td>\n",
              "      <td>869.0</td>\n",
              "      <td>538892.0</td>\n",
              "      <td>2365.0</td>\n",
              "      <td>2.714902e+08</td>\n",
              "      <td>4139547.0</td>\n",
              "      <td>6.558452e+07</td>\n",
              "    </tr>\n",
              "    <tr>\n",
              "      <th>3</th>\n",
              "      <td>4.0</td>\n",
              "      <td>NaN</td>\n",
              "      <td>34706757.0</td>\n",
              "      <td>686027.0</td>\n",
              "      <td>NaN</td>\n",
              "      <td>33838636.0</td>\n",
              "      <td>182094.0</td>\n",
              "      <td>8318.0</td>\n",
              "      <td>161162.0</td>\n",
              "      <td>3186.0</td>\n",
              "      <td>6.377617e+07</td>\n",
              "      <td>296146.0</td>\n",
              "      <td>2.153536e+08</td>\n",
              "    </tr>\n",
              "    <tr>\n",
              "      <th>4</th>\n",
              "      <td>5.0</td>\n",
              "      <td>NaN</td>\n",
              "      <td>33312373.0</td>\n",
              "      <td>149948.0</td>\n",
              "      <td>NaN</td>\n",
              "      <td>32315200.0</td>\n",
              "      <td>847225.0</td>\n",
              "      <td>1406.0</td>\n",
              "      <td>397126.0</td>\n",
              "      <td>1788.0</td>\n",
              "      <td>1.223324e+08</td>\n",
              "      <td>1458359.0</td>\n",
              "      <td>8.388360e+07</td>\n",
              "    </tr>\n",
              "  </tbody>\n",
              "</table>\n",
              "</div>\n",
              "    <div class=\"colab-df-buttons\">\n",
              "\n",
              "  <div class=\"colab-df-container\">\n",
              "    <button class=\"colab-df-convert\" onclick=\"convertToInteractive('df-5933ebf4-bf7f-41f4-9ddb-84ab6650aae2')\"\n",
              "            title=\"Convert this dataframe to an interactive table.\"\n",
              "            style=\"display:none;\">\n",
              "\n",
              "  <svg xmlns=\"http://www.w3.org/2000/svg\" height=\"24px\" viewBox=\"0 -960 960 960\">\n",
              "    <path d=\"M120-120v-720h720v720H120Zm60-500h600v-160H180v160Zm220 220h160v-160H400v160Zm0 220h160v-160H400v160ZM180-400h160v-160H180v160Zm440 0h160v-160H620v160ZM180-180h160v-160H180v160Zm440 0h160v-160H620v160Z\"/>\n",
              "  </svg>\n",
              "    </button>\n",
              "\n",
              "  <style>\n",
              "    .colab-df-container {\n",
              "      display:flex;\n",
              "      gap: 12px;\n",
              "    }\n",
              "\n",
              "    .colab-df-convert {\n",
              "      background-color: #E8F0FE;\n",
              "      border: none;\n",
              "      border-radius: 50%;\n",
              "      cursor: pointer;\n",
              "      display: none;\n",
              "      fill: #1967D2;\n",
              "      height: 32px;\n",
              "      padding: 0 0 0 0;\n",
              "      width: 32px;\n",
              "    }\n",
              "\n",
              "    .colab-df-convert:hover {\n",
              "      background-color: #E2EBFA;\n",
              "      box-shadow: 0px 1px 2px rgba(60, 64, 67, 0.3), 0px 1px 3px 1px rgba(60, 64, 67, 0.15);\n",
              "      fill: #174EA6;\n",
              "    }\n",
              "\n",
              "    .colab-df-buttons div {\n",
              "      margin-bottom: 4px;\n",
              "    }\n",
              "\n",
              "    [theme=dark] .colab-df-convert {\n",
              "      background-color: #3B4455;\n",
              "      fill: #D2E3FC;\n",
              "    }\n",
              "\n",
              "    [theme=dark] .colab-df-convert:hover {\n",
              "      background-color: #434B5C;\n",
              "      box-shadow: 0px 1px 3px 1px rgba(0, 0, 0, 0.15);\n",
              "      filter: drop-shadow(0px 1px 2px rgba(0, 0, 0, 0.3));\n",
              "      fill: #FFFFFF;\n",
              "    }\n",
              "  </style>\n",
              "\n",
              "    <script>\n",
              "      const buttonEl =\n",
              "        document.querySelector('#df-5933ebf4-bf7f-41f4-9ddb-84ab6650aae2 button.colab-df-convert');\n",
              "      buttonEl.style.display =\n",
              "        google.colab.kernel.accessAllowed ? 'block' : 'none';\n",
              "\n",
              "      async function convertToInteractive(key) {\n",
              "        const element = document.querySelector('#df-5933ebf4-bf7f-41f4-9ddb-84ab6650aae2');\n",
              "        const dataTable =\n",
              "          await google.colab.kernel.invokeFunction('convertToInteractive',\n",
              "                                                    [key], {});\n",
              "        if (!dataTable) return;\n",
              "\n",
              "        const docLinkHtml = 'Like what you see? Visit the ' +\n",
              "          '<a target=\"_blank\" href=https://colab.research.google.com/notebooks/data_table.ipynb>data table notebook</a>'\n",
              "          + ' to learn more about interactive tables.';\n",
              "        element.innerHTML = '';\n",
              "        dataTable['output_type'] = 'display_data';\n",
              "        await google.colab.output.renderOutput(dataTable, element);\n",
              "        const docLink = document.createElement('div');\n",
              "        docLink.innerHTML = docLinkHtml;\n",
              "        element.appendChild(docLink);\n",
              "      }\n",
              "    </script>\n",
              "  </div>\n",
              "\n",
              "\n",
              "    <div id=\"df-05d8b203-f888-4333-8257-10725c13b4e6\">\n",
              "      <button class=\"colab-df-quickchart\" onclick=\"quickchart('df-05d8b203-f888-4333-8257-10725c13b4e6')\"\n",
              "                title=\"Suggest charts\"\n",
              "                style=\"display:none;\">\n",
              "\n",
              "<svg xmlns=\"http://www.w3.org/2000/svg\" height=\"24px\"viewBox=\"0 0 24 24\"\n",
              "     width=\"24px\">\n",
              "    <g>\n",
              "        <path d=\"M19 3H5c-1.1 0-2 .9-2 2v14c0 1.1.9 2 2 2h14c1.1 0 2-.9 2-2V5c0-1.1-.9-2-2-2zM9 17H7v-7h2v7zm4 0h-2V7h2v10zm4 0h-2v-4h2v4z\"/>\n",
              "    </g>\n",
              "</svg>\n",
              "      </button>\n",
              "\n",
              "<style>\n",
              "  .colab-df-quickchart {\n",
              "      --bg-color: #E8F0FE;\n",
              "      --fill-color: #1967D2;\n",
              "      --hover-bg-color: #E2EBFA;\n",
              "      --hover-fill-color: #174EA6;\n",
              "      --disabled-fill-color: #AAA;\n",
              "      --disabled-bg-color: #DDD;\n",
              "  }\n",
              "\n",
              "  [theme=dark] .colab-df-quickchart {\n",
              "      --bg-color: #3B4455;\n",
              "      --fill-color: #D2E3FC;\n",
              "      --hover-bg-color: #434B5C;\n",
              "      --hover-fill-color: #FFFFFF;\n",
              "      --disabled-bg-color: #3B4455;\n",
              "      --disabled-fill-color: #666;\n",
              "  }\n",
              "\n",
              "  .colab-df-quickchart {\n",
              "    background-color: var(--bg-color);\n",
              "    border: none;\n",
              "    border-radius: 50%;\n",
              "    cursor: pointer;\n",
              "    display: none;\n",
              "    fill: var(--fill-color);\n",
              "    height: 32px;\n",
              "    padding: 0;\n",
              "    width: 32px;\n",
              "  }\n",
              "\n",
              "  .colab-df-quickchart:hover {\n",
              "    background-color: var(--hover-bg-color);\n",
              "    box-shadow: 0 1px 2px rgba(60, 64, 67, 0.3), 0 1px 3px 1px rgba(60, 64, 67, 0.15);\n",
              "    fill: var(--button-hover-fill-color);\n",
              "  }\n",
              "\n",
              "  .colab-df-quickchart-complete:disabled,\n",
              "  .colab-df-quickchart-complete:disabled:hover {\n",
              "    background-color: var(--disabled-bg-color);\n",
              "    fill: var(--disabled-fill-color);\n",
              "    box-shadow: none;\n",
              "  }\n",
              "\n",
              "  .colab-df-spinner {\n",
              "    border: 2px solid var(--fill-color);\n",
              "    border-color: transparent;\n",
              "    border-bottom-color: var(--fill-color);\n",
              "    animation:\n",
              "      spin 1s steps(1) infinite;\n",
              "  }\n",
              "\n",
              "  @keyframes spin {\n",
              "    0% {\n",
              "      border-color: transparent;\n",
              "      border-bottom-color: var(--fill-color);\n",
              "      border-left-color: var(--fill-color);\n",
              "    }\n",
              "    20% {\n",
              "      border-color: transparent;\n",
              "      border-left-color: var(--fill-color);\n",
              "      border-top-color: var(--fill-color);\n",
              "    }\n",
              "    30% {\n",
              "      border-color: transparent;\n",
              "      border-left-color: var(--fill-color);\n",
              "      border-top-color: var(--fill-color);\n",
              "      border-right-color: var(--fill-color);\n",
              "    }\n",
              "    40% {\n",
              "      border-color: transparent;\n",
              "      border-right-color: var(--fill-color);\n",
              "      border-top-color: var(--fill-color);\n",
              "    }\n",
              "    60% {\n",
              "      border-color: transparent;\n",
              "      border-right-color: var(--fill-color);\n",
              "    }\n",
              "    80% {\n",
              "      border-color: transparent;\n",
              "      border-right-color: var(--fill-color);\n",
              "      border-bottom-color: var(--fill-color);\n",
              "    }\n",
              "    90% {\n",
              "      border-color: transparent;\n",
              "      border-bottom-color: var(--fill-color);\n",
              "    }\n",
              "  }\n",
              "</style>\n",
              "\n",
              "      <script>\n",
              "        async function quickchart(key) {\n",
              "          const quickchartButtonEl =\n",
              "            document.querySelector('#' + key + ' button');\n",
              "          quickchartButtonEl.disabled = true;  // To prevent multiple clicks.\n",
              "          quickchartButtonEl.classList.add('colab-df-spinner');\n",
              "          try {\n",
              "            const charts = await google.colab.kernel.invokeFunction(\n",
              "                'suggestCharts', [key], {});\n",
              "          } catch (error) {\n",
              "            console.error('Error during call to suggestCharts:', error);\n",
              "          }\n",
              "          quickchartButtonEl.classList.remove('colab-df-spinner');\n",
              "          quickchartButtonEl.classList.add('colab-df-quickchart-complete');\n",
              "        }\n",
              "        (() => {\n",
              "          let quickchartButtonEl =\n",
              "            document.querySelector('#df-05d8b203-f888-4333-8257-10725c13b4e6 button');\n",
              "          quickchartButtonEl.style.display =\n",
              "            google.colab.kernel.accessAllowed ? 'block' : 'none';\n",
              "        })();\n",
              "      </script>\n",
              "    </div>\n",
              "\n",
              "    </div>\n",
              "  </div>\n"
            ],
            "application/vnd.google.colaboratory.intrinsic+json": {
              "type": "dataframe",
              "variable_name": "df",
              "summary": "{\n  \"name\": \"df\",\n  \"rows\": 230,\n  \"fields\": [\n    {\n      \"column\": \"#\",\n      \"properties\": {\n        \"dtype\": \"number\",\n        \"std\": 66.53946197558258,\n        \"min\": 1.0,\n        \"max\": 230.0,\n        \"num_unique_values\": 230,\n        \"samples\": [\n          218.0,\n          67.0,\n          10.0\n        ],\n        \"semantic_type\": \"\",\n        \"description\": \"\"\n      }\n    },\n    {\n      \"column\": \"Country,\\nOther\",\n      \"properties\": {\n        \"dtype\": \"number\",\n        \"std\": null,\n        \"min\": null,\n        \"max\": null,\n        \"num_unique_values\": 0,\n        \"samples\": [],\n        \"semantic_type\": \"\",\n        \"description\": \"\"\n      }\n    },\n    {\n      \"column\": \"Total\\nCases\",\n      \"properties\": {\n        \"dtype\": \"number\",\n        \"std\": 8779899.121391091,\n        \"min\": 9.0,\n        \"max\": 98166904.0,\n        \"num_unique_values\": 230,\n        \"samples\": [],\n        \"semantic_type\": \"\",\n        \"description\": \"\"\n      }\n    },\n    {\n      \"column\": \"Total\\nDeaths\",\n      \"properties\": {\n        \"dtype\": \"number\",\n        \"std\": 102213.72632355429,\n        \"min\": 1.0,\n        \"max\": 1084282.0,\n        \"num_unique_values\": 210,\n        \"samples\": [],\n        \"semantic_type\": \"\",\n        \"description\": \"\"\n      }\n    },\n    {\n      \"column\": \"New\\nDeaths\",\n      \"properties\": {\n        \"dtype\": \"number\",\n        \"std\": 21.0,\n        \"min\": 3.0,\n        \"max\": 42.0,\n        \"num_unique_values\": 3,\n        \"samples\": [],\n        \"semantic_type\": \"\",\n        \"description\": \"\"\n      }\n    },\n    {\n      \"column\": \"Total\\nRecovered\",\n      \"properties\": {\n        \"dtype\": \"number\",\n        \"std\": 8815290.775816035,\n        \"min\": 2.0,\n        \"max\": 94962112.0,\n        \"num_unique_values\": 214,\n        \"samples\": [],\n        \"semantic_type\": \"\",\n        \"description\": \"\"\n      }\n    },\n    {\n      \"column\": \"Active\\nCases\",\n      \"properties\": {\n        \"dtype\": \"number\",\n        \"std\": 207382.25123050399,\n        \"min\": 0.0,\n        \"max\": 2120510.0,\n        \"num_unique_values\": 196,\n        \"samples\": [],\n        \"semantic_type\": \"\",\n        \"description\": \"\"\n      }\n    },\n    {\n      \"column\": \"Serious,\\nCritical\",\n      \"properties\": {\n        \"dtype\": \"number\",\n        \"std\": 922.6982008257637,\n        \"min\": 1.0,\n        \"max\": 8318.0,\n        \"num_unique_values\": 77,\n        \"samples\": [],\n        \"semantic_type\": \"\",\n        \"description\": \"\"\n      }\n    },\n    {\n      \"column\": \"Tot_Cases_per_\\n1M_pop\",\n      \"properties\": {\n        \"dtype\": \"number\",\n        \"std\": 182372.50762571092,\n        \"min\": 16.0,\n        \"max\": 703959.0,\n        \"num_unique_values\": 228,\n        \"samples\": [],\n        \"semantic_type\": \"\",\n        \"description\": \"\"\n      }\n    },\n    {\n      \"column\": \"Deaths_per_\\n1M_pop\",\n      \"properties\": {\n        \"dtype\": \"number\",\n        \"std\": 1246.991628132219,\n        \"min\": 2.0,\n        \"max\": 6429.0,\n        \"num_unique_values\": 205,\n        \"samples\": [],\n        \"semantic_type\": \"\",\n        \"description\": \"\"\n      }\n    },\n    {\n      \"column\": \"Total\\nTests\",\n      \"properties\": {\n        \"dtype\": \"number\",\n        \"std\": 114456090.19342549,\n        \"min\": 5117.0,\n        \"max\": 1118158870.0,\n        \"num_unique_values\": 213,\n        \"samples\": [],\n        \"semantic_type\": \"\",\n        \"description\": \"\"\n      }\n    },\n    {\n      \"column\": \"Tests_per_\\n1M_pop\",\n      \"properties\": {\n        \"dtype\": \"number\",\n        \"std\": 3490517.1812257823,\n        \"min\": 5091.0,\n        \"max\": 22004939.0,\n        \"num_unique_values\": 214,\n        \"samples\": [],\n        \"semantic_type\": \"\",\n        \"description\": \"\"\n      }\n    },\n    {\n      \"column\": \"Population\",\n      \"properties\": {\n        \"dtype\": \"number\",\n        \"std\": 138923313.79527494,\n        \"min\": 799.0,\n        \"max\": 1448471400.0,\n        \"num_unique_values\": 228,\n        \"samples\": [],\n        \"semantic_type\": \"\",\n        \"description\": \"\"\n      }\n    }\n  ]\n}"
            }
          },
          "metadata": {},
          "execution_count": 13
        }
      ]
    },
    {
      "cell_type": "markdown",
      "source": [
        "# **Standarisasi Nama Negara**"
      ],
      "metadata": {
        "id": "Os9f6h-OK6kn"
      }
    },
    {
      "cell_type": "markdown",
      "source": [
        "Kode ini berfungsi untuk menyeragamkan penulisan nama negara yang berbeda tetapi sebenarnya sama. Contohnya, USA diubah menjadi United States atau S. Korea diubah menjadi South Korea. Tujuannya agar data tidak terpecah dan tetap konsisten saat dilakukan perhitungan atau visualisasi."
      ],
      "metadata": {
        "id": "V4zTOMdXj9p0"
      }
    },
    {
      "cell_type": "code",
      "source": [
        "print(df.columns.tolist())\n"
      ],
      "metadata": {
        "colab": {
          "base_uri": "https://localhost:8080/"
        },
        "id": "oAjAXQkRK3Ju",
        "outputId": "f2966f12-4ac0-4096-8b83-7d8e49278aae"
      },
      "execution_count": null,
      "outputs": [
        {
          "output_type": "stream",
          "name": "stdout",
          "text": [
            "['#', 'Country,\\nOther', 'Total\\nCases', 'Total\\nDeaths', 'New\\nDeaths', 'Total\\nRecovered', 'Active\\nCases', 'Serious,\\nCritical', 'Tot_Cases_per_\\n1M_pop', 'Deaths_per_\\n1M_pop', 'Total\\nTests', 'Tests_per_\\n1M_pop', 'Population']\n"
          ]
        }
      ]
    },
    {
      "cell_type": "code",
      "source": [
        "# Ganti nama kolom Country,Other → Country\n",
        "df = df.rename(columns={\"Country,\\nOther\": \"Country\"})\n",
        "\n",
        "# Setelah itu baru lakukan mapping\n",
        "manual_map = {\n",
        "    \"S. Korea\": \"South Korea\",\n",
        "    \"UK\": \"United Kingdom\",\n",
        "    \"UAE\": \"United Arab Emirates\",\n",
        "    \"USA\": \"United States\",\n",
        "    \"Viet Nam\": \"Vietnam\",\n",
        "    \"Czechia\": \"Czech Republic\"\n",
        "}\n",
        "\n",
        "df['Country'] = df['Country'].astype(str).str.strip()\n",
        "df['Country'] = df['Country'].replace(manual_map)\n",
        "\n",
        "print(\"Contoh nama negara unik:\")\n",
        "print(df['Country'].unique()[:30])\n"
      ],
      "metadata": {
        "colab": {
          "base_uri": "https://localhost:8080/"
        },
        "id": "1RHezKIILBBu",
        "outputId": "bbb34a0c-fded-4239-899c-8edce4fc7e24"
      },
      "execution_count": null,
      "outputs": [
        {
          "output_type": "stream",
          "name": "stdout",
          "text": [
            "Contoh nama negara unik:\n",
            "['nan']\n"
          ]
        }
      ]
    },
    {
      "cell_type": "markdown",
      "source": [
        "Menghapus Duplikat"
      ],
      "metadata": {
        "id": "TH6pgTuaNAkK"
      }
    },
    {
      "cell_type": "code",
      "source": [
        "print(\"Jumlah baris sebelum deduplikasi:\", df.shape[0])\n",
        "\n",
        "# Gabungkan data duplikat per Country → ambil nilai maksimum (karena sifatnya kumulatif)\n",
        "num_cols = [c for c in df.columns if c != 'Country']\n",
        "df = df.groupby('Country', as_index=False)[num_cols].max()\n",
        "\n",
        "print(\"Jumlah baris sesudah deduplikasi:\", df.shape[0])\n"
      ],
      "metadata": {
        "colab": {
          "base_uri": "https://localhost:8080/"
        },
        "id": "SNmepKxyM6De",
        "outputId": "f39d89b2-f434-4826-9d0a-c20f51f9736e"
      },
      "execution_count": null,
      "outputs": [
        {
          "output_type": "stream",
          "name": "stdout",
          "text": [
            "Jumlah baris sebelum deduplikasi: 230\n",
            "Jumlah baris sesudah deduplikasi: 1\n"
          ]
        }
      ]
    },
    {
      "cell_type": "markdown",
      "source": [
        "Imputasi & Rekalkulasi Kolom"
      ],
      "metadata": {
        "id": "WpAd7SWNNInO"
      }
    },
    {
      "cell_type": "code",
      "source": [
        "# Hitung kembali kolom turunan jika ada\n",
        "if 'TotalCases' in df.columns and 'TotalDeaths' in df.columns and 'TotalRecovered' in df.columns:\n",
        "    df['ActiveCases_calc'] = df['TotalCases'] - df['TotalDeaths'] - df['TotalRecovered']\n",
        "    # jika ActiveCases kosong, isi dengan hasil kalkulasi\n",
        "    if 'ActiveCases' in df.columns:\n",
        "        mask = df['ActiveCases'].isna()\n",
        "        df.loc[mask, 'ActiveCases'] = df.loc[mask, 'ActiveCases_calc']\n",
        "    else:\n",
        "        df['ActiveCases'] = df['ActiveCases_calc']\n",
        "\n",
        "# Contoh: TotCases_per_1M\n",
        "if 'TotalCases' in df.columns and 'Population' in df.columns:\n",
        "    mask = df['TotCases_per_1M'].isna() & df['TotalCases'].notna() & df['Population'].notna()\n",
        "    df.loc[mask, 'TotCases_per_1M'] = df.loc[mask, 'TotalCases'] / (df.loc[mask, 'Population']/1_000_000)\n",
        "\n",
        "df.drop(columns=['ActiveCases_calc'], errors='ignore', inplace=True)\n",
        "\n",
        "print(\"Missing value setelah imputasi:\")\n",
        "print(df.isna().sum())\n"
      ],
      "metadata": {
        "colab": {
          "base_uri": "https://localhost:8080/"
        },
        "id": "T63AH218NDle",
        "outputId": "2ff63d96-1ca0-41df-b4da-a922c0ea246c"
      },
      "execution_count": null,
      "outputs": [
        {
          "output_type": "stream",
          "name": "stdout",
          "text": [
            "Missing value setelah imputasi:\n",
            "Country                   0\n",
            "#                         0\n",
            "Total\\nCases              0\n",
            "Total\\nDeaths             0\n",
            "New\\nDeaths               0\n",
            "Total\\nRecovered          0\n",
            "Active\\nCases             0\n",
            "Serious,\\nCritical        0\n",
            "Tot_Cases_per_\\n1M_pop    0\n",
            "Deaths_per_\\n1M_pop       0\n",
            "Total\\nTests              0\n",
            "Tests_per_\\n1M_pop        0\n",
            "Population                0\n",
            "dtype: int64\n"
          ]
        }
      ]
    },
    {
      "cell_type": "markdown",
      "source": [
        "Validasi & Outlier Check"
      ],
      "metadata": {
        "id": "jpXjByysNYWi"
      }
    },
    {
      "cell_type": "code",
      "source": [
        "# Bersihkan nama kolom dari newline dan koma\n",
        "df.columns = df.columns.str.replace(\"\\n\", \"\", regex=True).str.replace(\",\", \"\", regex=True).str.strip()\n",
        "\n",
        "# Rename ke nama standar yang lebih rapi\n",
        "df = df.rename(columns={\n",
        "    \"Country Other\": \"Country\",\n",
        "    \"TotalCases\": \"TotalCases\",\n",
        "    \"TotalDeaths\": \"TotalDeaths\",\n",
        "    \"NewDeaths\": \"NewDeaths\",\n",
        "    \"TotalRecovered\": \"TotalRecovered\",\n",
        "    \"ActiveCases\": \"ActiveCases\",\n",
        "    \"Serious Critical\": \"SeriousCritical\",\n",
        "    \"Tot_Cases_per_1M_pop\": \"TotCases_per_1M\",\n",
        "    \"Deaths_per_1M_pop\": \"Deaths_per_1M\",\n",
        "    \"TotalTests\": \"TotalTests\",\n",
        "    \"Tests_per_1M_pop\": \"Tests_per_1M\",\n",
        "    \"Population\": \"Population\"\n",
        "})\n",
        "\n",
        "print(\"Kolom setelah dibersihkan:\")\n",
        "print(df.columns.tolist())\n",
        "\n",
        "# Population harus > 0\n",
        "bad_pop = df[(df['Population'].notna()) & (df['Population'] <= 0)]\n",
        "print(\"Negara dengan Population <= 0:\")\n",
        "print(bad_pop)\n",
        "\n",
        "# Kasus per 1M yang sangat tinggi\n",
        "bad_cases = df[df['TotCases_per_1M'] > 5_000_000]\n",
        "print(\"Outlier kasus per 1M:\")\n",
        "print(bad_cases)\n"
      ],
      "metadata": {
        "colab": {
          "base_uri": "https://localhost:8080/"
        },
        "id": "1snsAL9VNS-1",
        "outputId": "75f27bf8-3b9b-48f8-c476-285ef5114ec4"
      },
      "execution_count": null,
      "outputs": [
        {
          "output_type": "stream",
          "name": "stdout",
          "text": [
            "Kolom setelah dibersihkan:\n",
            "['Country', '#', 'TotalCases', 'TotalDeaths', 'NewDeaths', 'TotalRecovered', 'ActiveCases', 'SeriousCritical', 'TotCases_per_1M', 'Deaths_per_1M', 'TotalTests', 'Tests_per_1M', 'Population']\n",
            "Negara dengan Population <= 0:\n",
            "Empty DataFrame\n",
            "Columns: [Country, #, TotalCases, TotalDeaths, NewDeaths, TotalRecovered, ActiveCases, SeriousCritical, TotCases_per_1M, Deaths_per_1M, TotalTests, Tests_per_1M, Population]\n",
            "Index: []\n",
            "Outlier kasus per 1M:\n",
            "Empty DataFrame\n",
            "Columns: [Country, #, TotalCases, TotalDeaths, NewDeaths, TotalRecovered, ActiveCases, SeriousCritical, TotCases_per_1M, Deaths_per_1M, TotalTests, Tests_per_1M, Population]\n",
            "Index: []\n"
          ]
        }
      ]
    },
    {
      "cell_type": "code",
      "source": [
        "# Population harus > 0\n",
        "bad_pop = df[(df['Population'].notna()) & (df['Population'] <= 0)]\n",
        "print(\"Negara dengan Population <= 0:\")\n",
        "print(bad_pop)\n",
        "\n",
        "# Kasus per 1M yang sangat tinggi\n",
        "bad_cases = df[df['TotCases_per_1M'] > 5_000_000]\n",
        "print(\"Outlier kasus per 1M:\")\n",
        "print(bad_cases)\n"
      ],
      "metadata": {
        "colab": {
          "base_uri": "https://localhost:8080/"
        },
        "id": "pLlmARuMNaxf",
        "outputId": "6163b410-baf8-4a73-9eef-ab3db974f367"
      },
      "execution_count": null,
      "outputs": [
        {
          "output_type": "stream",
          "name": "stdout",
          "text": [
            "Negara dengan Population <= 0:\n",
            "Empty DataFrame\n",
            "Columns: [Country, #, TotalCases, TotalDeaths, NewDeaths, TotalRecovered, ActiveCases, SeriousCritical, TotCases_per_1M, Deaths_per_1M, TotalTests, Tests_per_1M, Population]\n",
            "Index: []\n",
            "Outlier kasus per 1M:\n",
            "Empty DataFrame\n",
            "Columns: [Country, #, TotalCases, TotalDeaths, NewDeaths, TotalRecovered, ActiveCases, SeriousCritical, TotCases_per_1M, Deaths_per_1M, TotalTests, Tests_per_1M, Population]\n",
            "Index: []\n"
          ]
        }
      ]
    },
    {
      "cell_type": "markdown",
      "source": [
        "# **Visualisasi Ringkas**"
      ],
      "metadata": {
        "id": "L_oPvoxxOTtR"
      }
    },
    {
      "cell_type": "markdown",
      "source": [
        "Visualisasi data dilakukan untuk menampilkan gambaran jumlah kasus COVID-19 pada 20 negara dengan kasus terbanyak. Grafik batang digunakan untuk memperlihatkan perbandingan jumlah kasus antar negara secara langsung sehingga mudah terlihat negara mana yang mendominasi data global. Sementara itu, diagram lingkaran digunakan untuk menggambarkan distribusi proporsi kasus dari 20 negara teratas, sehingga memberikan perspektif tambahan tentang kontribusi masing-masing negara terhadap total kasus global."
      ],
      "metadata": {
        "id": "a1lJgl6gkkCd"
      }
    },
    {
      "cell_type": "code",
      "source": [
        "import pandas as pd\n",
        "\n",
        "df_raw = pd.read_csv(\"/content/drive/MyDrive/DATA_MINING/Covid_Live.csv\")\n",
        "print(df_raw.shape)\n",
        "print(df_raw.head(5))\n",
        "\n",
        "df = df_raw.copy()\n",
        "df.columns = df.columns.str.replace(\"\\n\",\"\", regex=True).str.replace(\",\",\"\", regex=True).str.strip()\n",
        "\n",
        "# Rename kolom negara jadi \"Country\"\n",
        "df = df.rename(columns={\"CountryOther\": \"Country\"})\n",
        "print(df.columns.tolist())\n",
        "\n",
        "# hapus koma di angka lalu ubah ke float\n",
        "for col in df.columns:\n",
        "    if col != \"Country\":\n",
        "        df[col] = (df[col].astype(str)\n",
        "                          .str.replace(\",\",\"\")\n",
        "                          .str.strip()\n",
        "                          .replace({\"N/A\": None, \"-\": None}))\n",
        "        df[col] = pd.to_numeric(df[col], errors=\"coerce\")\n",
        "\n",
        "df = df[df['Country'].notna() & (df['Country'] != \"\")]\n",
        "\n",
        "import matplotlib.pyplot as plt\n",
        "import seaborn as sns\n",
        "\n",
        "# ambil top 20 negara dengan kasus terbanyak\n",
        "top20 = df.sort_values('TotalCases', ascending=False).head(20)\n",
        "\n",
        "plt.figure(figsize=(12,6))\n",
        "sns.barplot(data=top20, x='TotalCases', y='Country')\n",
        "plt.title(\"Top 20 Countries by Total Cases (Cleaned Data)\")\n",
        "plt.xlabel(\"Total Cases\")\n",
        "plt.ylabel(\"Country\")\n",
        "plt.tight_layout()\n",
        "plt.show()\n",
        "\n",
        "# Alternatif pie chart\n",
        "plt.figure(figsize=(8,8))\n",
        "plt.pie(top20['TotalCases'], labels=top20['Country'], autopct='%1.1f%%', startangle=140)\n",
        "plt.title(\"Distribusi Top 20 Negara berdasarkan Total Kasus\")\n",
        "plt.show()\n"
      ],
      "metadata": {
        "colab": {
          "base_uri": "https://localhost:8080/",
          "height": 1000
        },
        "id": "-2VeTk8bO__0",
        "outputId": "36330f92-930d-4dd5-c154-3e6d22e37bba"
      },
      "execution_count": null,
      "outputs": [
        {
          "output_type": "stream",
          "name": "stdout",
          "text": [
            "(230, 13)\n",
            "   # Country,\\nOther Total\\nCases Total\\nDeaths  New\\nDeaths Total\\nRecovered  \\\n",
            "0  1             USA   98,166,904     1,084,282          NaN       94,962,112   \n",
            "1  2           India   44,587,307       528,629          NaN       44,019,095   \n",
            "2  3          France   35,342,950       155,078          NaN       34,527,115   \n",
            "3  4          Brazil   34,706,757       686,027          NaN       33,838,636   \n",
            "4  5         Germany   33,312,373       149,948          NaN       32,315,200   \n",
            "\n",
            "  Active\\nCases Serious,\\nCritical Tot Cases/\\n1M pop Deaths/\\n1M pop  \\\n",
            "0     2,120,510              2,970            293,206           3,239   \n",
            "1        39,583                698             31,698             376   \n",
            "2       660,757                869            538,892           2,365   \n",
            "3       182,094              8,318            161,162           3,186   \n",
            "4       847,225              1,406            397,126           1,788   \n",
            "\n",
            "    Total\\nTests Tests/\\n1M pop     Population  \n",
            "0  1,118,158,870      3,339,729    334,805,269  \n",
            "1    894,416,853        635,857  1,406,631,776  \n",
            "2    271,490,188      4,139,547     65,584,518  \n",
            "3     63,776,166        296,146    215,353,593  \n",
            "4    122,332,384      1,458,359     83,883,596  \n",
            "['#', 'Country', 'TotalCases', 'TotalDeaths', 'NewDeaths', 'TotalRecovered', 'ActiveCases', 'SeriousCritical', 'Tot Cases/1M pop', 'Deaths/1M pop', 'TotalTests', 'Tests/1M pop', 'Population']\n"
          ]
        },
        {
          "output_type": "display_data",
          "data": {
            "text/plain": [
              "<Figure size 1200x600 with 1 Axes>"
            ],
            "image/png": "[encoded data removed]"
          },
          "metadata": {}
        },
        {
          "output_type": "display_data",
          "data": {
            "text/plain": [
              "<Figure size 800x800 with 1 Axes>"
            ],
            "image/png": "[encoded data removed]"
          },
          "metadata": {}
        }
      ]
    },
    {
      "cell_type": "code",
      "source": [
        "output_path = \"/content/drive/MyDrive/DATA_MINING/covid_cleaned.csv\"\n",
        "df.to_csv(output_path, index=False)\n",
        "print(\"Dataset hasil cleansing disimpan di:\", output_path)"
      ],
      "metadata": {
        "colab": {
          "base_uri": "https://localhost:8080/"
        },
        "id": "NFKqlXtNPFDF",
        "outputId": "846e37c0-3f53-49f9-849d-45e00d55e736"
      },
      "execution_count": null,
      "outputs": [
        {
          "output_type": "stream",
          "name": "stdout",
          "text": [
            "Dataset hasil cleansing disimpan di: /content/drive/MyDrive/DATA_MINING/covid_cleaned.csv\n"
          ]
        }
      ]
    },
    {
      "cell_type": "markdown",
      "source": [
        "# **Ringkasan**\n"
      ],
      "metadata": {
        "id": "IDBFvRJmRTHR"
      }
    },
    {
      "cell_type": "markdown",
      "source": [
        "Bagian terakhir ini menyajikan informasi ringkas dari dataset yang sudah dibersihkan. Di sini dihitung jumlah negara yang ada dalam dataset, total kasus, total kematian, serta negara dengan kasus dan kematian terbanyak. Ringkasan ini penting sebagai kesimpulan dari proses data cleansing yang telah dilakukan."
      ],
      "metadata": {
        "id": "1pslUBOUkTQn"
      }
    },
    {
      "cell_type": "code",
      "source": [
        "total_countries = df['Country'].nunique()\n",
        "total_cases = int(df['TotalCases'].sum(skipna=True))\n",
        "total_deaths = int(df['TotalDeaths'].sum(skipna=True))\n",
        "\n",
        "most_cases = df.loc[df['TotalCases'].idxmax(), 'Country']\n",
        "most_deaths = df.loc[df['TotalDeaths'].idxmax(), 'Country']\n",
        "\n",
        "print(f\"\"\"\n",
        "=== RINGKASAN DATASET COVID BERSIH ===\n",
        "Jumlah Negara     : {total_countries}\n",
        "Total Kasus       : {total_cases:,}\n",
        "Total Kematian    : {total_deaths:,}\n",
        "Kasus terbanyak   : {most_cases}\n",
        "Kematian terbanyak: {most_deaths}\n",
        "\"\"\")"
      ],
      "metadata": {
        "id": "I0huktuKRWec",
        "outputId": "11e1cb35-02b0-451e-dc71-0b4bc03fcebd",
        "colab": {
          "base_uri": "https://localhost:8080/"
        }
      },
      "execution_count": null,
      "outputs": [
        {
          "output_type": "stream",
          "name": "stdout",
          "text": [
            "\n",
            "=== RINGKASAN DATASET COVID BERSIH ===\n",
            "Jumlah Negara     : 230\n",
            "Total Kasus       : 622,372,853\n",
            "Total Kematian    : 6,547,095\n",
            "Kasus terbanyak   : USA\n",
            "Kematian terbanyak: USA\n",
            "\n"
          ]
        }
      ]
    }
  ]
}